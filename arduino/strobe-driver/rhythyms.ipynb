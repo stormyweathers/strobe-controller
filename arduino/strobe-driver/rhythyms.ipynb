{
 "cells": [
  {
   "cell_type": "code",
   "execution_count": 2,
   "metadata": {},
   "outputs": [],
   "source": [
    "import numpy as np\n",
    "phi  = (1 + np.sqrt(5))/2"
   ]
  },
  {
   "cell_type": "code",
   "execution_count": 3,
   "metadata": {},
   "outputs": [],
   "source": [
    "\"\"\"\n",
    "https://medium.com/code-music-noise/euclidean-rhythms-391d879494df\n",
    "\n",
    "\n",
    "\"\"\"\n",
    "def fib(n):\n",
    "    \"\"\"\n",
    "    compute the nth digit of the fibonacci word\n",
    "    \"\"\"\n",
    "    return int(np.floor(n/phi) - np.floor((n-1)/phi))\n",
    "\n",
    "def bresenham(n,p,q):\n",
    "    \"\"\"\n",
    "    compute the nth digit of the bresenham line rhythm\n",
    "    \"\"\"\n",
    "    return int(np.floor(n*p/q) - np.floor((n-1)*p/q))\n",
    "\n",
    "def float_rhythym(n,slope):\n",
    "    assert slope <1\n",
    "    return int(np.floor(n*slope) - np.floor((n-1)*slope))"
   ]
  },
  {
   "cell_type": "code",
   "execution_count": 6,
   "metadata": {},
   "outputs": [
    {
     "name": "stdout",
     "output_type": "stream",
     "text": [
      "[1. 0. 1. 0. 1. 1. 0. 1. 0. 1. 1. 0. 1. 1. 0. 1. 0. 1. 1. 0. 1. 0. 1. 1.\n",
      " 0. 1. 1. 0. 1. 0. 1. 1. 0. 1. 1. 0. 1. 0. 1. 1. 0. 1. 0. 1. 1. 0. 1. 1.\n",
      " 0. 1. 0. 1. 1. 0. 1. 0. 1. 1. 0. 1. 1. 0. 1. 0. 1. 1. 0. 1. 1. 0. 1. 0.\n",
      " 1. 1. 0. 1. 0. 1. 1. 0. 1. 1. 0. 1. 0. 1. 1. 0. 1. 1. 0. 1. 0. 1. 1. 0.\n",
      " 1. 0. 1. 1.]\n"
     ]
    }
   ],
   "source": [
    "l = 100\n",
    "word = np.zeros(l)\n",
    "for i in range(l):\n",
    "    word[i] = fib(i)\n",
    "print(word)"
   ]
  },
  {
   "cell_type": "code",
   "execution_count": 126,
   "metadata": {},
   "outputs": [
    {
     "name": "stdout",
     "output_type": "stream",
     "text": [
      "[1. 0. 0. 0. 1. 0. 0. 1. 0. 0. 1. 0. 0. 1. 0. 0. 1. 0. 0. 1. 0. 0. 1. 0.\n",
      " 0. 0. 1. 0. 0. 1. 0. 0. 1. 0. 0. 1. 0. 0. 1. 0. 0. 1. 0. 0. 1. 0. 0. 0.\n",
      " 1. 0. 0. 1. 0. 0. 1. 0. 0. 1. 0. 0. 1. 0. 0. 1. 0. 0. 1. 0. 0. 0. 1. 0.\n",
      " 0. 1. 0. 0. 1. 0. 0. 1. 0. 0. 1. 0. 0. 1. 0. 0. 1. 0. 0. 0. 1. 0. 0. 1.\n",
      " 0. 0. 1. 0.]\n"
     ]
    }
   ],
   "source": [
    "l = 100\n",
    "word = np.zeros(l)\n",
    "for i in range(l):\n",
    "    word[i] = float_rhythym(i,1/np.pi)\n",
    "print(word)"
   ]
  },
  {
   "cell_type": "code",
   "execution_count": 104,
   "metadata": {},
   "outputs": [
    {
     "name": "stdout",
     "output_type": "stream",
     "text": [
      "1.618033988749895\n"
     ]
    }
   ],
   "source": [
    "print(phi)"
   ]
  },
  {
   "cell_type": "code",
   "execution_count": 7,
   "metadata": {},
   "outputs": [
    {
     "name": "stdout",
     "output_type": "stream",
     "text": [
      "[1. 0. 0. 0. 0. 1. 0. 0. 0. 1. 0. 0. 0. 1. 0. 0. 0. 1. 0. 0. 0.]\n"
     ]
    }
   ],
   "source": [
    "p,q=5,21\n",
    "l=q\n",
    "word = np.zeros(l)\n",
    "for i in range(l):\n",
    "    word[i] = bresenham(i,p,q)\n",
    "print(word)"
   ]
  },
  {
   "cell_type": "code",
   "execution_count": 132,
   "metadata": {},
   "outputs": [
    {
     "data": {
      "text/plain": [
       "96.0"
      ]
     },
     "execution_count": 132,
     "metadata": {},
     "output_type": "execute_result"
    }
   ],
   "source": [
    "3/8*256"
   ]
  },
  {
   "cell_type": "code",
   "execution_count": 99,
   "metadata": {},
   "outputs": [],
   "source": [
    "def euclid(m,k,remainders = None, counts = None):\n",
    "    ## Euclidean algorithm for finding GCD\n",
    "    ## Tracking the remainders and divisors as well\n",
    "    m = int(m)\n",
    "    k = int(k)\n",
    "    if remainders is None:\n",
    "        remainders=[]\n",
    "    if counts is None:\n",
    "        counts=[]\n",
    "    if k==0:\n",
    "        gcd=m\n",
    "        return gcd,remainders,counts\n",
    "    remainders.append(k)\n",
    "    counts.append(m//k)\n",
    "    return euclid(k,m%k,remainders,counts)\n",
    "\n",
    "def bjorklund(m,k):\n",
    "    \n",
    "    #Precompute euclidean algorithm coefficients\n",
    "    _,remainders,counts=euclid(m-k,k)\n",
    "    print(f\"{remainders=}\")\n",
    "    print(f\"{counts=}\")\n",
    "    pattern = []\n",
    "    \n",
    "    def build(level):\n",
    "        if level == -1:\n",
    "            pattern.append(0)\n",
    "        elif level == -2:\n",
    "            pattern.append(1)         \n",
    "        else:\n",
    "            for i in range(0, counts[level]):\n",
    "                build(level - 1)\n",
    "            if remainders[level] != 0:\n",
    "                build(level - 2)\n",
    "    \n",
    "    build(len(counts)-1)\n",
    "    \n",
    "    #shift pattern to guarantee a hit on first count\n",
    "    i = pattern.index(1)\n",
    "    pattern = pattern[i:] + pattern[0:i]\n",
    "    return pattern\n",
    "\n",
    "\n",
    "def interval_notation(pattern):\n",
    "    indices = np.array([i for i,val in enumerate(pattern) if val != 0])\n",
    "    \n",
    "    intervals=list(indices[1:]-indices[0:-1])\n",
    "    #Final interval is the trailing zeros + leading zeros\n",
    "    intervals.append(len(pattern)-indices[-1]+indices[0])\n",
    "    return intervals"
   ]
  },
  {
   "cell_type": "code",
   "execution_count": 97,
   "metadata": {},
   "outputs": [
    {
     "data": {
      "text/plain": [
       "(1, [5, 3, 2, 1], [1, 1, 1, 2])"
      ]
     },
     "execution_count": 97,
     "metadata": {},
     "output_type": "execute_result"
    }
   ],
   "source": [
    "euclid(8,5)"
   ]
  },
  {
   "cell_type": "code",
   "execution_count": 100,
   "metadata": {},
   "outputs": [
    {
     "name": "stdout",
     "output_type": "stream",
     "text": [
      "remainders=[4, 1]\n",
      "counts=[2, 4]\n",
      "[1, 0, 0, 1, 0, 0, 1, 0, 0, 1, 0, 0, 0]\n",
      "[3, 3, 3, 4]\n"
     ]
    }
   ],
   "source": [
    "pattern=bjorklund(13,4)\n",
    "print(pattern)\n",
    "print(interval_notation(pattern))\n"
   ]
  },
  {
   "cell_type": "code",
   "execution_count": 66,
   "metadata": {},
   "outputs": [
    {
     "name": "stdout",
     "output_type": "stream",
     "text": [
      "0\n"
     ]
    }
   ],
   "source": [
    "for i in range(0,1):\n",
    "    print(i)"
   ]
  },
  {
   "cell_type": "code",
   "execution_count": 44,
   "metadata": {},
   "outputs": [],
   "source": [
    "def bjorklund_(steps, pulses):\n",
    "    steps = int(steps)\n",
    "    pulses = int(pulses)\n",
    "    if pulses > steps:\n",
    "        raise ValueError    \n",
    "    pattern = []    \n",
    "    counts = []\n",
    "    remainders = []\n",
    "    divisor = steps - pulses\n",
    "    remainders.append(pulses)\n",
    "    level = 0\n",
    "    while True:\n",
    "        counts.append(divisor // remainders[level])\n",
    "        remainders.append(divisor % remainders[level])\n",
    "        divisor = remainders[level]\n",
    "        level = level + 1\n",
    "        if remainders[level] <= 1:\n",
    "            break\n",
    "    counts.append(divisor)\n",
    "    \n",
    "    print(f\"{counts=}\")\n",
    "    print(f\"{remainders=}\")\n",
    "    def build(level):\n",
    "        if level == -1:\n",
    "            pattern.append(0)\n",
    "        elif level == -2:\n",
    "            pattern.append(1)         \n",
    "        else:\n",
    "            for i in range(0, counts[level]):\n",
    "                build(level - 1)\n",
    "            if remainders[level] != 0:\n",
    "                build(level - 2)\n",
    "    \n",
    "    build(level)\n",
    "    i = pattern.index(1)\n",
    "    pattern = pattern[i:] + pattern[0:i]\n",
    "    return pattern"
   ]
  },
  {
   "cell_type": "code",
   "execution_count": 50,
   "metadata": {},
   "outputs": [
    {
     "name": "stdout",
     "output_type": "stream",
     "text": [
      "counts=[1, 1, 2]\n",
      "remainders=[3, 2, 1]\n"
     ]
    },
    {
     "data": {
      "text/plain": [
       "[1, 0, 0, 1, 0, 0, 1, 0]"
      ]
     },
     "execution_count": 50,
     "metadata": {},
     "output_type": "execute_result"
    }
   ],
   "source": [
    "bjorklund_(8,3)"
   ]
  },
  {
   "cell_type": "code",
   "execution_count": 55,
   "metadata": {},
   "outputs": [
    {
     "data": {
      "text/plain": [
       "(1, [3, 2, 1], [1, 1, 2])"
      ]
     },
     "execution_count": 55,
     "metadata": {},
     "output_type": "execute_result"
    }
   ],
   "source": [
    "euclid(8-3,3)"
   ]
  },
  {
   "cell_type": "code",
   "execution_count": null,
   "metadata": {},
   "outputs": [],
   "source": [
    "def bjorklund(steps,hits):\n",
    "    steps=int(steps)\n",
    "    hits =int(hits)\n",
    "    level=0\n",
    "    counts=[hits]\n",
    "    remainders=[steps-hits]"
   ]
  }
 ],
 "metadata": {
  "kernelspec": {
   "display_name": "Python 3",
   "language": "python",
   "name": "python3"
  },
  "language_info": {
   "codemirror_mode": {
    "name": "ipython",
    "version": 3
   },
   "file_extension": ".py",
   "mimetype": "text/x-python",
   "name": "python",
   "nbconvert_exporter": "python",
   "pygments_lexer": "ipython3",
   "version": "3.8.10"
  }
 },
 "nbformat": 4,
 "nbformat_minor": 4
}
