{
 "cells": [
  {
   "cell_type": "code",
   "execution_count": 1,
   "metadata": {},
   "outputs": [],
   "source": [
    "import numpy as np\n",
    "from matplotlib import pyplot as plt"
   ]
  },
  {
   "cell_type": "markdown",
   "metadata": {},
   "source": [
    "# Representation of pulse trains\n",
    "\n",
    "* *negative* integers --> length of time spent in the \"0\" state \n",
    "* *positive* integers --> length of time spent in the \"1\" state"
   ]
  },
  {
   "cell_type": "code",
   "execution_count": 13,
   "metadata": {},
   "outputs": [],
   "source": [
    "def expand(wav):\n",
    "    ## Expand from delta form to wav form\n",
    "    ## using the signed delta convention\n",
    "    expanded = []\n",
    "    t = 0\n",
    "    ts = []\n",
    "    for width in wav:\n",
    "        assert(width == int(width))\n",
    "        ele = (np.sign(width)+1)/2 \n",
    "        abs_width =np.abs(width)\n",
    "        expanded += (abs_width+1)*[ele]\n",
    "        ts += [t+i for i in range(abs_width+1)]\n",
    "        t += abs_width\n",
    "    return ts,expanded\n",
    "\n",
    "def expand_new_pulse(t_start,t_width):\n",
    "    assert(t_start == int(t_start))\n",
    "    assert(t_width == int(t_width))\n",
    "    assert(t_start >= 0)\n",
    "    assert(t_width > 0)\n",
    "    \n",
    "    ts=[t_start]\n",
    "    expanded = [0]\n",
    "    \n",
    "    ts+= list(range(t_start,t_start+t_width+1))\n",
    "    expanded+= [1]*(t_width+1)\n",
    "    \n",
    "    ts.append(t_start+t_width)\n",
    "    expanded.append(0)\n",
    "    \n",
    "    return ts, expanded"
   ]
  },
  {
   "cell_type": "code",
   "execution_count": 14,
   "metadata": {},
   "outputs": [
    {
     "data": {
      "image/png": "[encoded data removed]",
      "text/plain": [
       "<Figure size 432x288 with 1 Axes>"
      ]
     },
     "metadata": {
      "needs_background": "light"
     },
     "output_type": "display_data"
    }
   ],
   "source": [
    "pulse_stream = [-4,2,-1,3,-10,25,-3]\n",
    "ts,expanded = expand(pulse_stream)\n",
    "plt.plot(ts,expanded)\n",
    "plt.plot(ts,expanded,\".\")\n",
    "plt.show()"
   ]
  },
  {
   "cell_type": "code",
   "execution_count": 20,
   "metadata": {},
   "outputs": [
    {
     "data": {
      "text/plain": [
       "48"
      ]
     },
     "execution_count": 20,
     "metadata": {},
     "output_type": "execute_result"
    }
   ],
   "source": []
  },
  {
   "cell_type": "code",
   "execution_count": 158,
   "metadata": {},
   "outputs": [],
   "source": [
    "def isInt(num):\n",
    "    if isinstance(num,int):\n",
    "        return True\n",
    "    elif isinstance(num,nested_pulse_train):\n",
    "        return False\n",
    "    elif np.issubdtype(num, np.integer):\n",
    "        return True\n",
    "    else:\n",
    "        return False\n",
    "\n",
    "\n",
    "from typing import Union,List\n",
    "class nested_pulse_train:\n",
    "    \n",
    "    def __init__(self, pulses: List[Union[int,nested_pulse_train]] ):\n",
    "        self.pulses = pulses\n",
    "        self.clear_zeroes()\n",
    "        self.compute_duration()\n",
    "    def __str__(self):\n",
    "        string = \"nested_pulse_train( [ \"\n",
    "        for ele in self.pulses:\n",
    "            if isInt(ele):\n",
    "                string += f\"{ele}, \"\n",
    "            else:\n",
    "                string += str(ele)\n",
    "        \n",
    "        string += \"] ) \"\n",
    "        return string\n",
    "    \n",
    "    def clear_zeroes(self):\n",
    "        \"\"\"\n",
    "        nonterminal zeros must be cleared\n",
    "        \"\"\"\n",
    "        nonterminal_zero_idxs=[idx for idx in range(len(self.pulses)) if self.pulses[idx] == 0 and idx < len(self.pulses)-1]\n",
    "        #Make sure to pop from far end first\n",
    "        nonterminal_zero_idxs.sort(reverse=True)\n",
    "        for idx in nonterminal_zero_idxs:\n",
    "            self.pulses.pop(idx)\n",
    "        \n",
    "        # Get all the nested pulse trains\n",
    "        for pulse in [pulse for pulse in self.pulses if not isInt(pulse)]:\n",
    "            pulse.clear_zeroes()\n",
    "        \n",
    "    \n",
    "    def compute_duration(self):\n",
    "        \"\"\"\n",
    "        Total duration of all nested pulse train components\n",
    "        \"\"\"\n",
    "        accumulator = 0\n",
    "        for ele in self.pulses:\n",
    "            if isInt(ele):\n",
    "                accumulator += np.abs(ele)\n",
    "            else:\n",
    "                accumulator += ele.compute_duration()\n",
    "        self.duration = accumulator\n",
    "        return self.duration\n",
    "    \n",
    "    def expand(self,t_offset = 0):\n",
    "        \"\"\"\n",
    "        Return a list that is suitable for plotting pulse trains\n",
    "        Do not plot, just return the lists\n",
    "        \"\"\"\n",
    "        expanded = []\n",
    "        t = t_offset\n",
    "        ts = []\n",
    "        for pulse in self.pulses:\n",
    "            if isInt(pulse):\n",
    "                ele = (np.sign(pulse)+1)/2 \n",
    "                duration =np.abs(pulse)\n",
    "                expanded += (duration+1)*[ele]\n",
    "                ts += [t+i for i in range(duration+1)]\n",
    "                t += duration\n",
    "            else:\n",
    "                ts_nested,expanded_nested = pulse.expand(t_offset = t)\n",
    "                ts += ts_nested\n",
    "                expanded += expanded_nested\n",
    "                t += pulse.duration\n",
    "        return ts,expanded\n",
    "\n",
    "    \n",
    "    def consolidate(self):\n",
    "        \"\"\"\n",
    "        When nested pulse trains are all the same sign,\n",
    "        they can be folded up to reduce recursion depth\n",
    "        \"\"\"\n",
    "        sign = None\n",
    "        sign_changed = False\n",
    "        do_consolidate = True\n",
    "        for (idx,pulse) in enumerate(self.pulses):\n",
    "            \n",
    "            if not isinstance(pulse,int):\n",
    "                if (pulse.consolidate()):\n",
    "                    self.pulses[idx] = int(pulse.pulses[0])\n",
    "                    pulse = self.pulses[idx]\n",
    "            \n",
    "            # Initialize sign\n",
    "            if sign is None:\n",
    "                sign = np.sign(pulse)\n",
    "            \n",
    "            #if there are any sign changes, cannot fully consolidate\n",
    "            if (sign != np.sign(pulse)) and (not sign_changed):\n",
    "                sign_chaged = True\n",
    "                do_consolidate = False\n",
    "        if do_consolidate:\n",
    "            self.pulses = [sign*self.duration]\n",
    "            return True\n",
    "        else: \n",
    "            return False\n",
    "            \n",
    "    def add_pulse(self,t_start: int, t_width:int):\n",
    "        assert( t_start >= 0)\n",
    "        \n",
    "        \n",
    "        for (idx,pulse) in enumerate(self.pulses):\n",
    "            \n",
    "            if t_width <= 0:\n",
    "                return\n",
    "            \n",
    "            \n",
    "            #Check if we can skip over this pulse\n",
    "            if isInt(pulse):\n",
    "                duration = np.abs(pulse)\n",
    "            else:\n",
    "                duration = pulse.duration\n",
    "                \n",
    "            delay = t_start-duration\n",
    "            if delay >= 0:\n",
    "                # Skip this <possibly nested> pulse\n",
    "                t_start -= duration\n",
    "            elif isinstance(pulse,nested_pulse_train):\n",
    "                # Enter the nested pulse\n",
    "                t_width = pulse.add_pulse(t_start,duration)\n",
    "            elif isinstance(pulse, int):\n",
    "                # Start adding the new pulse \n",
    "                # at the current nest level in the currently iterated pulse\n",
    "                \n",
    "                if pulse > 0:\n",
    "                    \"\"\"\n",
    "                    current pulse is already positive\n",
    "                    decrement the t_width and move on\n",
    "                    \"\"\" \n",
    "                    t_width += delay\n",
    "                elif pulse < 0:\n",
    "                    \"\"\"\n",
    "                    current pulse is negative, must split into a positive and negative piece\n",
    "                    ---  ->  -++, new positive pulse hits subseqeuent edge (continue)\n",
    "                    ---  ->  -+-, new positive pulse is contained in negative region (terminate)\n",
    "                    \"\"\"\n",
    "                    print(f\"{duration=}, {t_width=}, {delay=}, {t_start=}\")\n",
    "                    if -delay > t_width:\n",
    "                        print(\"Adding -+- pulse\")\n",
    "                        self.pulses[idx] = nested_pulse_train([-t_start,t_width,-(-delay-t_width)])\n",
    "                        return 0\n",
    "                    else:\n",
    "                        print(\"Adding -++ pulse\")\n",
    "                        self.pulses[idx] = nested_pulse_train([-t_start,duration-t_start])\n",
    "                        t_width -= duration-t_start "
   ]
  },
  {
   "cell_type": "code",
   "execution_count": 159,
   "metadata": {},
   "outputs": [
    {
     "name": "stdout",
     "output_type": "stream",
     "text": [
      "nested_pulse_train( [ -10, 10, -10, 5, ] ) \n",
      "35\n"
     ]
    },
    {
     "data": {
      "image/png": "[encoded data removed]",
      "text/plain": [
       "<Figure size 432x288 with 1 Axes>"
      ]
     },
     "metadata": {
      "needs_background": "light"
     },
     "output_type": "display_data"
    },
    {
     "name": "stdout",
     "output_type": "stream",
     "text": [
      "duration=10, t_width=10, delay=-10, t_start=0\n",
      "Adding -++ pulse\n"
     ]
    },
    {
     "data": {
      "image/png": "[encoded data removed]",
      "text/plain": [
       "<Figure size 432x288 with 1 Axes>"
      ]
     },
     "metadata": {
      "needs_background": "light"
     },
     "output_type": "display_data"
    },
    {
     "name": "stdout",
     "output_type": "stream",
     "text": [
      "nested_pulse_train( [ -10, 10, nested_pulse_train( [ 10, ] ) 5, ] ) \n"
     ]
    }
   ],
   "source": [
    "example_add = nested_pulse_train( [-10,10,-10,5 ]  )\n",
    "print(example_add)\n",
    "example_add.compute_duration()\n",
    "print(example_add.duration)\n",
    "ts,expanded = example_add.expand()\n",
    "plt.plot(ts,expanded)\n",
    "plt.plot(ts,expanded,\".\")\n",
    "\n",
    "t_start,t_width=20,10\n",
    "ts_new, expanded_new = expand_new_pulse(t_start,t_width)\n",
    "plt.plot(ts_new,expanded_new,\"-.\")\n",
    "plt.show()\n",
    "\n",
    "example_add.add_pulse(t_start,t_width)\n",
    "ts,expanded = example_add.expand()\n",
    "plt.plot(ts,expanded)\n",
    "plt.plot(ts,expanded,\".\")\n",
    "plt.show()\n",
    "print(example_add)"
   ]
  },
  {
   "cell_type": "code",
   "execution_count": 160,
   "metadata": {},
   "outputs": [
    {
     "name": "stdout",
     "output_type": "stream",
     "text": [
      "nested_pulse_train( [ -4, 2, -1, 3, -10, 25, -3, ] ) \n",
      "48\n"
     ]
    },
    {
     "data": {
      "image/png": "[encoded data removed]",
      "text/plain": [
       "<Figure size 432x288 with 1 Axes>"
      ]
     },
     "metadata": {
      "needs_background": "light"
     },
     "output_type": "display_data"
    },
    {
     "name": "stdout",
     "output_type": "stream",
     "text": [
      "nested_pulse_train( [ -10, 10, -10, 30, nested_pulse_train( [ 2, 2, 6, -10, ] ) 10, ] ) \n",
      "90\n"
     ]
    },
    {
     "data": {
      "image/png": "[encoded data removed]",
      "text/plain": [
       "<Figure size 432x288 with 1 Axes>"
      ]
     },
     "metadata": {
      "needs_background": "light"
     },
     "output_type": "display_data"
    },
    {
     "name": "stdout",
     "output_type": "stream",
     "text": [
      "nested_pulse_train( [ -10, 10, -10, nested_pulse_train( [ 10, 10, 10, nested_pulse_train( [ 1, 1, 1, 1, ] ) ] ) 10, ] ) \n",
      "nested_pulse_train( [ -10, 10, -10, 34, 10, ] ) \n"
     ]
    }
   ],
   "source": [
    "pulse_stream = [-4,2,-1,3,-10,25,-3]\n",
    "example = nested_pulse_train(pulse_stream)\n",
    "example.compute_duration()\n",
    "print(example)\n",
    "print(example.duration)\n",
    "ts,expanded = example.expand()\n",
    "example.consolidate()\n",
    "plt.plot(ts,expanded)\n",
    "plt.plot(ts,expanded,\".\")\n",
    "plt.show()\n",
    "\n",
    "example2 = nested_pulse_train( [-10,10,-10,30, nested_pulse_train([2,2,6,-10]),10 ]  )\n",
    "print(example2)\n",
    "example2.compute_duration()\n",
    "print(example2.duration)\n",
    "ts,expanded = example2.expand()\n",
    "plt.plot(ts,expanded)\n",
    "plt.plot(ts,expanded,\".\")\n",
    "plt.show()\n",
    "\n",
    "\n",
    "consolidation_test = nested_pulse_train([-10,10,-10,nested_pulse_train([10,10,10,nested_pulse_train([1,1,1,1])]),10])\n",
    "print(consolidation_test)\n",
    "consolidation_test.consolidate()\n",
    "print(consolidation_test)"
   ]
  },
  {
   "cell_type": "code",
   "execution_count": 165,
   "metadata": {
    "scrolled": false
   },
   "outputs": [
    {
     "name": "stdout",
     "output_type": "stream",
     "text": [
      "CASE: 0\n"
     ]
    },
    {
     "data": {
      "image/png": "[encoded data removed]",
      "text/plain": [
       "<Figure size 432x288 with 1 Axes>"
      ]
     },
     "metadata": {
      "needs_background": "light"
     },
     "output_type": "display_data"
    },
    {
     "name": "stdout",
     "output_type": "stream",
     "text": [
      "duration=10, t_width=5, delay=-10, t_start=0\n",
      "Adding -+- pulse\n"
     ]
    },
    {
     "data": {
      "image/png": "[encoded data removed]",
      "text/plain": [
       "<Figure size 432x288 with 1 Axes>"
      ]
     },
     "metadata": {
      "needs_background": "light"
     },
     "output_type": "display_data"
    },
    {
     "name": "stdout",
     "output_type": "stream",
     "text": [
      "CASE: 1\n"
     ]
    },
    {
     "data": {
      "image/png": "[encoded data removed]",
      "text/plain": [
       "<Figure size 432x288 with 1 Axes>"
      ]
     },
     "metadata": {
      "needs_background": "light"
     },
     "output_type": "display_data"
    },
    {
     "name": "stdout",
     "output_type": "stream",
     "text": [
      "duration=10, t_width=3, delay=-5, t_start=5\n",
      "Adding -+- pulse\n"
     ]
    },
    {
     "data": {
      "image/png": "[encoded data removed]",
      "text/plain": [
       "<Figure size 432x288 with 1 Axes>"
      ]
     },
     "metadata": {
      "needs_background": "light"
     },
     "output_type": "display_data"
    },
    {
     "name": "stdout",
     "output_type": "stream",
     "text": [
      "CASE: 2\n"
     ]
    },
    {
     "data": {
      "image/png": "[encoded data removed]",
      "text/plain": [
       "<Figure size 432x288 with 1 Axes>"
      ]
     },
     "metadata": {
      "needs_background": "light"
     },
     "output_type": "display_data"
    },
    {
     "name": "stdout",
     "output_type": "stream",
     "text": [
      "duration=10, t_width=5, delay=-5, t_start=5\n",
      "Adding -++ pulse\n"
     ]
    },
    {
     "data": {
      "image/png": "[encoded data removed]",
      "text/plain": [
       "<Figure size 432x288 with 1 Axes>"
      ]
     },
     "metadata": {
      "needs_background": "light"
     },
     "output_type": "display_data"
    },
    {
     "name": "stdout",
     "output_type": "stream",
     "text": [
      "CASE: 3\n"
     ]
    },
    {
     "data": {
      "image/png": "[encoded data removed]",
      "text/plain": [
       "<Figure size 432x288 with 1 Axes>"
      ]
     },
     "metadata": {
      "needs_background": "light"
     },
     "output_type": "display_data"
    },
    {
     "name": "stdout",
     "output_type": "stream",
     "text": [
      "duration=10, t_width=10, delay=-1, t_start=9\n",
      "Adding -++ pulse\n"
     ]
    },
    {
     "data": {
      "image/png": "[encoded data removed]",
      "text/plain": [
       "<Figure size 432x288 with 1 Axes>"
      ]
     },
     "metadata": {
      "needs_background": "light"
     },
     "output_type": "display_data"
    },
    {
     "name": "stdout",
     "output_type": "stream",
     "text": [
      "CASE: 4\n"
     ]
    },
    {
     "data": {
      "image/png": "[encoded data removed]",
      "text/plain": [
       "<Figure size 432x288 with 1 Axes>"
      ]
     },
     "metadata": {
      "needs_background": "light"
     },
     "output_type": "display_data"
    },
    {
     "data": {
      "image/png": "[encoded data removed]",
      "text/plain": [
       "<Figure size 432x288 with 1 Axes>"
      ]
     },
     "metadata": {
      "needs_background": "light"
     },
     "output_type": "display_data"
    },
    {
     "name": "stdout",
     "output_type": "stream",
     "text": [
      "CASE: 5\n"
     ]
    },
    {
     "data": {
      "image/png": "[encoded data removed]",
      "text/plain": [
       "<Figure size 432x288 with 1 Axes>"
      ]
     },
     "metadata": {
      "needs_background": "light"
     },
     "output_type": "display_data"
    },
    {
     "name": "stdout",
     "output_type": "stream",
     "text": [
      "duration=10, t_width=10, delay=-10, t_start=0\n",
      "Adding -++ pulse\n"
     ]
    },
    {
     "ename": "TypeError",
     "evalue": "'<=' not supported between instances of 'NoneType' and 'int'",
     "output_type": "error",
     "traceback": [
      "\u001b[0;31m---------------------------------------------------------------------------\u001b[0m",
      "\u001b[0;31mTypeError\u001b[0m                                 Traceback (most recent call last)",
      "\u001b[0;32m<ipython-input-165-41444c28be4b>\u001b[0m in \u001b[0;36m<module>\u001b[0;34m\u001b[0m\n\u001b[1;32m     61\u001b[0m \u001b[0;34m\u001b[0m\u001b[0m\n\u001b[1;32m     62\u001b[0m \u001b[0;34m\u001b[0m\u001b[0m\n\u001b[0;32m---> 63\u001b[0;31m     \u001b[0mtrain\u001b[0m\u001b[0;34m.\u001b[0m\u001b[0madd_pulse\u001b[0m\u001b[0;34m(\u001b[0m\u001b[0mt_start\u001b[0m\u001b[0;34m,\u001b[0m\u001b[0mt_width\u001b[0m\u001b[0;34m)\u001b[0m\u001b[0;34m\u001b[0m\u001b[0;34m\u001b[0m\u001b[0m\n\u001b[0m\u001b[1;32m     64\u001b[0m     \u001b[0mts\u001b[0m\u001b[0;34m,\u001b[0m\u001b[0mexpanded\u001b[0m \u001b[0;34m=\u001b[0m \u001b[0mtrain\u001b[0m\u001b[0;34m.\u001b[0m\u001b[0mexpand\u001b[0m\u001b[0;34m(\u001b[0m\u001b[0;34m)\u001b[0m\u001b[0;34m\u001b[0m\u001b[0;34m\u001b[0m\u001b[0m\n\u001b[1;32m     65\u001b[0m     \u001b[0mplt\u001b[0m\u001b[0;34m.\u001b[0m\u001b[0mplot\u001b[0m\u001b[0;34m(\u001b[0m\u001b[0mts\u001b[0m\u001b[0;34m,\u001b[0m\u001b[0mexpanded\u001b[0m\u001b[0;34m)\u001b[0m\u001b[0;34m\u001b[0m\u001b[0;34m\u001b[0m\u001b[0m\n",
      "\u001b[0;32m<ipython-input-158-ab6052f9e814>\u001b[0m in \u001b[0;36madd_pulse\u001b[0;34m(self, t_start, t_width)\u001b[0m\n\u001b[1;32m    114\u001b[0m         \u001b[0;32mfor\u001b[0m \u001b[0;34m(\u001b[0m\u001b[0midx\u001b[0m\u001b[0;34m,\u001b[0m\u001b[0mpulse\u001b[0m\u001b[0;34m)\u001b[0m \u001b[0;32min\u001b[0m \u001b[0menumerate\u001b[0m\u001b[0;34m(\u001b[0m\u001b[0mself\u001b[0m\u001b[0;34m.\u001b[0m\u001b[0mpulses\u001b[0m\u001b[0;34m)\u001b[0m\u001b[0;34m:\u001b[0m\u001b[0;34m\u001b[0m\u001b[0;34m\u001b[0m\u001b[0m\n\u001b[1;32m    115\u001b[0m \u001b[0;34m\u001b[0m\u001b[0m\n\u001b[0;32m--> 116\u001b[0;31m             \u001b[0;32mif\u001b[0m \u001b[0mt_width\u001b[0m \u001b[0;34m<=\u001b[0m \u001b[0;36m0\u001b[0m\u001b[0;34m:\u001b[0m\u001b[0;34m\u001b[0m\u001b[0;34m\u001b[0m\u001b[0m\n\u001b[0m\u001b[1;32m    117\u001b[0m                 \u001b[0;32mreturn\u001b[0m\u001b[0;34m\u001b[0m\u001b[0;34m\u001b[0m\u001b[0m\n\u001b[1;32m    118\u001b[0m \u001b[0;34m\u001b[0m\u001b[0m\n",
      "\u001b[0;31mTypeError\u001b[0m: '<=' not supported between instances of 'NoneType' and 'int'"
     ]
    }
   ],
   "source": [
    "train = nested_pulse_train( [-10,10,-10,30, nested_pulse_train([2,2,6,-10]),10 ]  )\n",
    "\n",
    "cases=[]\n",
    "cases.append( (20,5) )\n",
    "cases.append( (25,3) )\n",
    "cases.append( (25,5) )\n",
    "cases.append( (19,11) )\n",
    "cases.append( (40,5) )\n",
    "cases.append( (60,15) )\n",
    "cases.append( (60,25) )\n",
    "cases.append( (15,70) )\n",
    "\n",
    "\"\"\"\n",
    "Cases to verify:\n",
    "\n",
    "0) New pulse is entirely between existing pulses\n",
    "1) New pulse overlaps previous pulse\n",
    "    1') adjacent\n",
    "2) New pulse overlaps next pulse\n",
    "    2') adjacent\n",
    "3) New pulse overlaps both previous and preceeding pulse\n",
    "    3') adjacent\n",
    "\n",
    "4) New pulse is entirely contained within existing pulse\n",
    "    4') adjacent\n",
    "    *) Pulse train is unchanged\n",
    "5) Pulse start is beyond scope of current buffer\n",
    "6) Pulse start is within scope, but stop is beyond scope\n",
    "\n",
    "7) All cases with either current_state = 0 or current_state = 1\n",
    "\n",
    "\"\"\"\n",
    "\n",
    "\n",
    "\"\"\"\n",
    "*) directly adjacent edges should be considered overlapping, with 0 width\n",
    "*)  classify cases based on whether new pulses' rising and falling edges:\n",
    "        *) lie within existing pulses\n",
    "        *) lie within dead zones\n",
    "        *) lie within the same existing pulses\n",
    "        *) lie within the same dead zone\n",
    "\"\"\"\n",
    "\n",
    "\n",
    "\n",
    "for (idx, case) in enumerate(cases):\n",
    "    train = nested_pulse_train( [-10,10,-10,30, nested_pulse_train([2,2,6,-10]),10 ]  )\n",
    "    \n",
    "    print(f\"CASE: {idx}\")\n",
    "    #unpack the case\n",
    "    t_start = case[0]\n",
    "    t_width = case[1]\n",
    "    \n",
    "    #Plot the existsing pulse stream and the desired new pulse\n",
    "    ts,expanded = train.expand()\n",
    "    plt.plot(ts,expanded)\n",
    "    plt.plot(ts,expanded,\".\")\n",
    "    ts_new, expanded_new = expand_new_pulse(t_start,t_width)\n",
    "    plt.plot(ts_new,expanded_new,\"-.\") \n",
    "    plt.show()\n",
    "    \n",
    "    \n",
    "    train.add_pulse(t_start,t_width)\n",
    "    ts,expanded = train.expand()\n",
    "    plt.plot(ts,expanded)\n",
    "    plt.plot(ts,expanded,\".\")\n",
    "    plt.show()"
   ]
  },
  {
   "cell_type": "code",
   "execution_count": 51,
   "metadata": {},
   "outputs": [
    {
     "data": {
      "text/plain": [
       "3"
      ]
     },
     "execution_count": 51,
     "metadata": {},
     "output_type": "execute_result"
    }
   ],
   "source": [
    "np.argmax(np.where(cum_sum<t_start))"
   ]
  },
  {
   "cell_type": "code",
   "execution_count": null,
   "metadata": {},
   "outputs": [],
   "source": [
    "previous_pulse_end_idx = j-1-((j%2)-1)*start\n",
    "print(f\"{previous_pulse_end_idx=}\")\n",
    "preceeding_gap = t_start-cum_sum[previous_pulse_end_idx]\n",
    "if preceeding_gap > 0:\n",
    "    print(f\"new pulse begins at {t_start}, which is {preceeding_gap} after the end of the previous pulse ({cum_sum[previous_pulse_end_idx]})\")\n",
    "elif preceeding_gap < -t_width:\n",
    "    print(f\"CASE 5: new_pulse is entirely within existing pulse!\")\n",
    "else:\n",
    "    print(f\"new_pulse begins at {t_start}, which overlaps with previous pulse by {preceeding_gap}\")\n",
    "    \n",
    "next_pulse_begin_idx = j-(j%2+start)\n",
    "print(f\"{next_pulse_begin_idx=}\")\n",
    "following_gap = cum_sum[next_pulse_begin_idx]-(t_start+t_width)\n",
    "if following_gap > 0:\n",
    "    print(f\"New pulse ends at {t_start+t_width}, which is {following_gap} before the following pulse begins ({cum_sum[next_pulse_begin_idx]})\") \n",
    "else:\n",
    "    print(f\"New pulse ends at {t_start+t_width}, which overlaps with the following pulse by {following_gap}\")\n",
    "\n",
    "    \n",
    "if (preceeding_gap > 0) and (following_gap > 0):\n",
    "    print(\"CASE 1: No overlap between new pulse and existing pulses\")\n",
    "\n",
    "elif (preceeding_gap <=0) and (following_gap > 0):\n",
    "    print(\"CASE 2: new pulse overlaps previous pulse but not following pulse\")\n",
    "\n",
    "elif (preceeding_gap >0) and (following_gap <=0):\n",
    "    print(\"CASE 3: new pulse overlaps following pulse but not previous pulse\")\n",
    "\n",
    "elif (preceeding_gap <=0) and (following_gap<=0):\n",
    "    print(\"CASE 4: New pulse bridges two previous pulses\")"
   ]
  },
  {
   "cell_type": "code",
   "execution_count": 48,
   "metadata": {},
   "outputs": [
    {
     "data": {
      "text/plain": [
       "20"
      ]
     },
     "execution_count": 48,
     "metadata": {},
     "output_type": "execute_result"
    }
   ],
   "source": [
    "cum_sum[j]"
   ]
  },
  {
   "cell_type": "code",
   "execution_count": null,
   "metadata": {},
   "outputs": [],
   "source": []
  }
 ],
 "metadata": {
  "kernelspec": {
   "display_name": "Python 3",
   "language": "python",
   "name": "python3"
  },
  "language_info": {
   "codemirror_mode": {
    "name": "ipython",
    "version": 3
   },
   "file_extension": ".py",
   "mimetype": "text/x-python",
   "name": "python",
   "nbconvert_exporter": "python",
   "pygments_lexer": "ipython3",
   "version": "3.8.3"
  }
 },
 "nbformat": 4,
 "nbformat_minor": 4
}
