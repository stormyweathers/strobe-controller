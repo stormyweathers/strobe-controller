{
 "cells": [
  {
   "cell_type": "code",
   "execution_count": 1,
   "metadata": {},
   "outputs": [],
   "source": [
    "import numpy as np\n",
    "from matplotlib import pyplot as plt"
   ]
  },
  {
   "cell_type": "markdown",
   "metadata": {},
   "source": [
    "# Representation of pulse trains\n",
    "\n",
    "* *negative* integers --> length of time spent in the \"0\" state \n",
    "* *positive* integers --> length of time spent in the \"1\" state"
   ]
  },
  {
   "cell_type": "code",
   "execution_count": 13,
   "metadata": {},
   "outputs": [],
   "source": [
    "def expand(wav):\n",
    "    ## Expand from delta form to wav form\n",
    "    ## using the signed delta convention\n",
    "    expanded = []\n",
    "    t = 0\n",
    "    ts = []\n",
    "    for width in wav:\n",
    "        assert(width == int(width))\n",
    "        ele = (np.sign(width)+1)/2 \n",
    "        abs_width =np.abs(width)\n",
    "        expanded += (abs_width+1)*[ele]\n",
    "        ts += [t+i for i in range(abs_width+1)]\n",
    "        t += abs_width\n",
    "    return ts,expanded\n",
    "\n",
    "def expand_new_pulse(t_start,t_width):\n",
    "    assert(t_start == int(t_start))\n",
    "    assert(t_width == int(t_width))\n",
    "    assert(t_start >= 0)\n",
    "    assert(t_width > 0)\n",
    "    \n",
    "    ts=[t_start]\n",
    "    expanded = [0]\n",
    "    \n",
    "    ts+= list(range(t_start,t_start+t_width+1))\n",
    "    expanded+= [1]*(t_width+1)\n",
    "    \n",
    "    ts.append(t_start+t_width)\n",
    "    expanded.append(0)\n",
    "    \n",
    "    return ts, expanded"
   ]
  },
  {
   "cell_type": "code",
   "execution_count": 14,
   "metadata": {},
   "outputs": [
    {
     "data": {
      "image/png": "[encoded data removed]",
      "text/plain": [
       "<Figure size 432x288 with 1 Axes>"
      ]
     },
     "metadata": {
      "needs_background": "light"
     },
     "output_type": "display_data"
    }
   ],
   "source": [
    "pulse_stream = [-4,2,-1,3,-10,25,-3]\n",
    "ts,expanded = expand(pulse_stream)\n",
    "plt.plot(ts,expanded)\n",
    "plt.plot(ts,expanded,\".\")\n",
    "plt.show()"
   ]
  },
  {
   "cell_type": "code",
   "execution_count": 20,
   "metadata": {},
   "outputs": [
    {
     "data": {
      "text/plain": [
       "48"
      ]
     },
     "execution_count": 20,
     "metadata": {},
     "output_type": "execute_result"
    }
   ],
   "source": []
  },
  {
   "cell_type": "code",
   "execution_count": 91,
   "metadata": {},
   "outputs": [],
   "source": [
    "from typing import Union,List\n",
    "class nested_pulse_train:\n",
    "    \n",
    "    def __init__(self, pulses: List[Union[int,nested_pulse_train]] ):\n",
    "        self.pulses = pulses\n",
    "        self.compute_duration()\n",
    "        \n",
    "    def __str__(self):\n",
    "        string = \"nested_pulse_train( [ \"\n",
    "        for ele in self.pulses:\n",
    "            if isinstance(ele,int):\n",
    "                string += f\"{ele}, \"\n",
    "            else:\n",
    "                string += str(ele)\n",
    "        \n",
    "        string += \"] ) \"\n",
    "        return string\n",
    "    \n",
    "    def compute_duration(self):\n",
    "        \"\"\"\n",
    "        Total duration of all nested pulse train components\n",
    "        \"\"\"\n",
    "        accumulator = 0\n",
    "        for ele in self.pulses:\n",
    "            if isinstance(ele,int):\n",
    "                accumulator += np.abs(ele)\n",
    "            else:\n",
    "                accumulator += ele.compute_duration()\n",
    "        self.duration = accumulator\n",
    "        return self.duration\n",
    "    \n",
    "    def expand(self,t_offset = 0):\n",
    "        \"\"\"\n",
    "        Return a list that is suitable for plotting pulse trains\n",
    "        Do not plot, just return the lists\n",
    "        \"\"\"\n",
    "        expanded = []\n",
    "        t = t_offset\n",
    "        ts = []\n",
    "        for pulse in self.pulses:\n",
    "            if isinstance(pulse,int):\n",
    "                ele = (np.sign(pulse)+1)/2 \n",
    "                duration =np.abs(pulse)\n",
    "                expanded += (duration+1)*[ele]\n",
    "                ts += [t+i for i in range(duration+1)]\n",
    "                t += duration\n",
    "            else:\n",
    "                ts_nested,expanded_nested = pulse.expand(t_offset = t)\n",
    "                ts += ts_nested\n",
    "                expanded += expanded_nested\n",
    "                t += pulse.duration\n",
    "        return ts,expanded\n",
    "\n",
    "    def add_pulse(self,t_start: int, t_width:int):\n",
    "        assert( t_start > 0)\n",
    "        assert( t_width > 0)\n",
    "        pass\n",
    "    \n",
    "    def consolidate(self):\n",
    "        sign = None\n",
    "        sign_changed = False\n",
    "        do_consolidate = True\n",
    "        for (idx,pulse) in enumerate(self.pulses):\n",
    "            \n",
    "            if not isinstance(pulse,int):\n",
    "                if (pulse.consolidate()):\n",
    "                    self.pulses[idx] = int(pulse.pulses[0])\n",
    "                    pulse = self.pulses[idx]\n",
    "            \n",
    "            # Initialize sign\n",
    "            if sign is None:\n",
    "                sign = np.sign(pulse)\n",
    "            \n",
    "            #if there are any sign changes, cannot fully consolidate\n",
    "            if (sign != np.sign(pulse)) and (not sign_changed):\n",
    "                sign_chaged = True\n",
    "                do_consolidate = False\n",
    "        if do_consolidate:\n",
    "            self.pulses = [sign*self.duration]\n",
    "            return True\n",
    "        else: \n",
    "            return False\n",
    "            "
   ]
  },
  {
   "cell_type": "code",
   "execution_count": 96,
   "metadata": {},
   "outputs": [
    {
     "name": "stdout",
     "output_type": "stream",
     "text": [
      "nested_pulse_train( [ -4, 2, -1, 3, -10, 25, -3, ] ) \n",
      "48\n",
      "detected sign change!\n",
      "detected sign change!\n",
      "detected sign change!\n"
     ]
    },
    {
     "data": {
      "image/png": "[encoded data removed]",
      "text/plain": [
       "<Figure size 432x288 with 1 Axes>"
      ]
     },
     "metadata": {
      "needs_background": "light"
     },
     "output_type": "display_data"
    },
    {
     "name": "stdout",
     "output_type": "stream",
     "text": [
      "nested_pulse_train( [ -10, 10, -10, 30, nested_pulse_train( [ 2, 2, 6, -10, ] ) 10, ] ) \n",
      "90\n"
     ]
    },
    {
     "data": {
      "image/png": "[encoded data removed]",
      "text/plain": [
       "<Figure size 432x288 with 1 Axes>"
      ]
     },
     "metadata": {
      "needs_background": "light"
     },
     "output_type": "display_data"
    },
    {
     "name": "stdout",
     "output_type": "stream",
     "text": [
      "nested_pulse_train( [ -10, 10, -10, nested_pulse_train( [ 10, 10, 10, nested_pulse_train( [ 1, 1, 1, 1, ] ) ] ) 10, ] ) \n",
      "detected sign change!\n",
      "detected nesting\n",
      "detected nesting\n",
      "detected sign change!\n",
      "detected sign change!\n",
      "nested_pulse_train( [ -10, 10, -10, 34, 10, ] ) \n"
     ]
    }
   ],
   "source": [
    "pulse_stream = [-4,2,-1,3,-10,25,-3]\n",
    "example = nested_pulse_train(pulse_stream)\n",
    "example.compute_duration()\n",
    "print(example)\n",
    "print(example.duration)\n",
    "ts,expanded = example.expand()\n",
    "example.consolidate()\n",
    "plt.plot(ts,expanded)\n",
    "plt.plot(ts,expanded,\".\")\n",
    "plt.show()\n",
    "\n",
    "example2 = nested_pulse_train( [-10,10,-10,30, nested_pulse_train([2,2,6,-10]),10 ]  )\n",
    "print(example2)\n",
    "example2.compute_duration()\n",
    "print(example2.duration)\n",
    "ts,expanded = example2.expand()\n",
    "plt.plot(ts,expanded)\n",
    "plt.plot(ts,expanded,\".\")\n",
    "plt.show()\n",
    "\n",
    "\n",
    "consolidation_test = nested_pulse_train([-10,10,-10,nested_pulse_train([10,10,10,nested_pulse_train([1,1,1,1])]),10])\n",
    "print(consolidation_test)\n",
    "consolidation_test.consolidate()\n",
    "print(consolidation_test)"
   ]
  },
  {
   "cell_type": "code",
   "execution_count": 93,
   "metadata": {},
   "outputs": [
    {
     "name": "stdout",
     "output_type": "stream",
     "text": [
      "pulse=-10, type(pulse)=<class 'int'>\n",
      "pulse=10, type(pulse)=<class 'int'>\n",
      "pulse=-10, type(pulse)=<class 'int'>\n",
      "pulse=30, type(pulse)=<class 'int'>\n",
      "pulse=10, type(pulse)=<class 'int'>\n"
     ]
    }
   ],
   "source": [
    "for pulse in consolidation_test.pulses:\n",
    "    print(f\"{pulse=}, {type(pulse)=}\")"
   ]
  },
  {
   "cell_type": "code",
   "execution_count": 45,
   "metadata": {},
   "outputs": [],
   "source": [
    "def partial_cum_sum(pulse_stream,t_start,t_width):\n",
    "    ## Find where the new pulse lies in the existing stream\n",
    "    j = 0\n",
    "    cum_sum=[pulse_stream[0]]\n",
    "    while ( cum_sum[j] <= t_start+t_width ):\n",
    "        cum_sum.append(cum_sum[j]+pulse_stream[j+1])\n",
    "        j+=1\n",
    "    return np.array(cum_sum)"
   ]
  },
  {
   "cell_type": "code",
   "execution_count": 67,
   "metadata": {
    "scrolled": false
   },
   "outputs": [
    {
     "name": "stdout",
     "output_type": "stream",
     "text": [
      "pulse_stream=array([ 4,  2,  1,  3, 10, 25,  3])\n",
      "cum_sum=array([ 4,  6,  7, 10, 20])\n",
      "leading_edge_idx=4\n",
      "leading_delta=2\n"
     ]
    },
    {
     "data": {
      "image/png": "[encoded data removed]",
      "text/plain": [
       "<Figure size 432x288 with 1 Axes>"
      ]
     },
     "metadata": {
      "needs_background": "light"
     },
     "output_type": "display_data"
    },
    {
     "name": "stdout",
     "output_type": "stream",
     "text": [
      "pulse_stream=array([ 4,  2,  1,  3, 10, 25,  3])\n",
      "cum_sum=array([ 4,  6,  7, 10, 20])\n",
      "leading_edge_idx=3\n",
      "leading_delta=2\n"
     ]
    },
    {
     "data": {
      "image/png": "[encoded data removed]",
      "text/plain": [
       "<Figure size 432x288 with 1 Axes>"
      ]
     },
     "metadata": {
      "needs_background": "light"
     },
     "output_type": "display_data"
    },
    {
     "name": "stdout",
     "output_type": "stream",
     "text": [
      "pulse_stream=array([ 4,  2,  1,  3, 10, 25,  3])\n",
      "cum_sum=array([ 4,  6,  7, 10, 20])\n",
      "leading_edge_idx=3\n",
      "leading_delta=3\n"
     ]
    },
    {
     "data": {
      "image/png": "[encoded data removed]",
      "text/plain": [
       "<Figure size 432x288 with 1 Axes>"
      ]
     },
     "metadata": {
      "needs_background": "light"
     },
     "output_type": "display_data"
    },
    {
     "name": "stdout",
     "output_type": "stream",
     "text": [
      "pulse_stream=array([ 4,  2,  1,  3, 10, 25,  3])\n",
      "cum_sum=array([ 4,  6,  7, 10, 20, 45])\n",
      "leading_edge_idx=4\n",
      "leading_delta=8\n"
     ]
    },
    {
     "data": {
      "image/png": "[encoded data removed]",
      "text/plain": [
       "<Figure size 432x288 with 1 Axes>"
      ]
     },
     "metadata": {
      "needs_background": "light"
     },
     "output_type": "display_data"
    },
    {
     "name": "stdout",
     "output_type": "stream",
     "text": [
      "pulse_stream=array([ 4,  2,  1,  3, 10, 25,  3])\n",
      "cum_sum=array([ 4,  6,  7, 10, 20, 45])\n",
      "leading_edge_idx=4\n",
      "leading_delta=5\n"
     ]
    },
    {
     "data": {
      "image/png": "[encoded data removed]",
      "text/plain": [
       "<Figure size 432x288 with 1 Axes>"
      ]
     },
     "metadata": {
      "needs_background": "light"
     },
     "output_type": "display_data"
    },
    {
     "name": "stdout",
     "output_type": "stream",
     "text": [
      "pulse_stream=array([ 4,  2,  1,  3, 10, 25,  3])\n",
      "cum_sum=array([ 4,  6,  7, 10, 20, 45])\n",
      "leading_edge_idx=3\n",
      "leading_delta=2\n"
     ]
    },
    {
     "data": {
      "image/png": "[encoded data removed]",
      "text/plain": [
       "<Figure size 432x288 with 1 Axes>"
      ]
     },
     "metadata": {
      "needs_background": "light"
     },
     "output_type": "display_data"
    },
    {
     "name": "stdout",
     "output_type": "stream",
     "text": [
      "pulse_stream=array([ 4,  2,  1,  3, 10, 25,  3])\n",
      "cum_sum=array([ 4,  6,  7, 10, 20, 45])\n",
      "leading_edge_idx=3\n",
      "leading_delta=3\n"
     ]
    },
    {
     "data": {
      "image/png": "[encoded data removed]",
      "text/plain": [
       "<Figure size 432x288 with 1 Axes>"
      ]
     },
     "metadata": {
      "needs_background": "light"
     },
     "output_type": "display_data"
    },
    {
     "name": "stdout",
     "output_type": "stream",
     "text": [
      "pulse_stream=array([ 4,  2,  1,  3, 10, 25,  3])\n",
      "cum_sum=array([ 4,  6,  7, 10, 20, 45])\n",
      "leading_edge_idx=3\n",
      "leading_delta=3\n"
     ]
    },
    {
     "data": {
      "image/png": "[encoded data removed]",
      "text/plain": [
       "<Figure size 432x288 with 1 Axes>"
      ]
     },
     "metadata": {
      "needs_background": "light"
     },
     "output_type": "display_data"
    },
    {
     "name": "stdout",
     "output_type": "stream",
     "text": [
      "pulse_stream=array([ 4,  2,  1,  3, 10, 25,  3])\n",
      "cum_sum=array([ 4,  6,  7, 10, 20, 45])\n",
      "leading_edge_idx=4\n",
      "leading_delta=1\n"
     ]
    },
    {
     "data": {
      "image/png": "[encoded data removed]",
      "text/plain": [
       "<Figure size 432x288 with 1 Axes>"
      ]
     },
     "metadata": {
      "needs_background": "light"
     },
     "output_type": "display_data"
    },
    {
     "name": "stdout",
     "output_type": "stream",
     "text": [
      "pulse_stream=array([ 4,  2,  1,  3, 10, 25,  3])\n",
      "cum_sum=array([ 4,  6,  7, 10, 20, 45])\n",
      "leading_edge_idx=5\n",
      "leading_delta=5\n"
     ]
    },
    {
     "data": {
      "image/png": "[encoded data removed]",
      "text/plain": [
       "<Figure size 432x288 with 1 Axes>"
      ]
     },
     "metadata": {
      "needs_background": "light"
     },
     "output_type": "display_data"
    },
    {
     "name": "stdout",
     "output_type": "stream",
     "text": [
      "pulse_stream=array([ 4,  2,  1,  3, 10, 25,  3])\n",
      "cum_sum=array([ 4,  6,  7, 10, 20, 45])\n",
      "leading_edge_idx=4\n",
      "leading_delta=10\n"
     ]
    },
    {
     "data": {
      "image/png": "[encoded data removed]",
      "text/plain": [
       "<Figure size 432x288 with 1 Axes>"
      ]
     },
     "metadata": {
      "needs_background": "light"
     },
     "output_type": "display_data"
    },
    {
     "name": "stdout",
     "output_type": "stream",
     "text": [
      "pulse_stream=array([ 4,  2,  1,  3, 10, 25,  3])\n",
      "cum_sum=array([ 4,  6,  7, 10, 20, 45, 48])\n",
      "leading_edge_idx=4\n",
      "leading_delta=10\n"
     ]
    },
    {
     "data": {
      "image/png": "[encoded data removed]",
      "text/plain": [
       "<Figure size 432x288 with 1 Axes>"
      ]
     },
     "metadata": {
      "needs_background": "light"
     },
     "output_type": "display_data"
    }
   ],
   "source": [
    "## Insert a pulse into the pulse stream\n",
    "t_start  = 21\n",
    "t_width = 3\n",
    "\n",
    "\n",
    "\"\"\"\n",
    "Cases to verify:\n",
    "\n",
    "0) New pulse is entirely between existing pulses\n",
    "1) New pulse overlaps previous pulse\n",
    "    1') adjacent\n",
    "2) New pulse overlaps next pulse\n",
    "    2') adjacent\n",
    "3) New pulse overlaps both previous and preceeding pulse\n",
    "    3') adjacent\n",
    "\n",
    "4) New pulse is entirely contained within existing pulse\n",
    "    4') adjacent\n",
    "    *) Pulse train is unchanged\n",
    "5) Pulse start is beyond scope of current buffer\n",
    "6) Pulse start is within scope, but stop is beyond scope\n",
    "\n",
    "7) All cases with either current_state = 0 or current_state = 1\n",
    "\n",
    "\"\"\"\n",
    "\n",
    "\n",
    "\"\"\"\n",
    "*) directly adjacent edges should be considered overlapping, with 0 width\n",
    "*)  classify cases based on whether new pulses' rising and falling edges:\n",
    "        *) lie within existing pulses\n",
    "        *) lie within dead zones\n",
    "        *) lie within the same existing pulses\n",
    "        *) lie within the same dead zone\n",
    "\"\"\"\n",
    "\n",
    "cases=[]\n",
    "cases.append( {\"t_start\" : 12, \"t_width\" : 5, \"current_state\" : 0}    )\n",
    "cases.append( {\"t_start\" :  9, \"t_width\" : 5, \"current_state\" : 0}    )\n",
    "cases.append( {\"t_start\" : 10, \"t_width\" : 5, \"current_state\" : 0}    )\n",
    "cases.append( {\"t_start\" : 18, \"t_width\" : 5, \"current_state\" : 0}    )\n",
    "cases.append( {\"t_start\" : 15, \"t_width\" : 5, \"current_state\" : 0}    )\n",
    "cases.append( {\"t_start\" :  9, \"t_width\" : 12,\"current_state\" : 0}    )\n",
    "cases.append( {\"t_start\" :  10, \"t_width\" : 12,\"current_state\" : 0}    )\n",
    "cases.append( {\"t_start\" :  10, \"t_width\" : 10,\"current_state\" : 0}    )\n",
    "cases.append( {\"t_start\" :  11, \"t_width\" : 9, \"current_state\" : 0}    )\n",
    "cases.append( {\"t_start\" :  25, \"t_width\" : 5, \"current_state\" : 0}    )\n",
    "cases.append( {\"t_start\" :  20, \"t_width\" : 5, \"current_state\" : 0}    )\n",
    "cases.append( {\"t_start\" :  20, \"t_width\" :25, \"current_state\" : 0}    )\n",
    "\n",
    "\n",
    "for case in cases:\n",
    "    \n",
    "    #unpack the case\n",
    "    t_start = case[\"t_start\"]\n",
    "    t_width = case[\"t_width\"]\n",
    "    current_state = case[\"current_state\"]\n",
    "    \n",
    "    #Plot the existsing pulse stream and the desired new pulse\n",
    "    ts,expanded = expand(pulse_stream,start)\n",
    "    plt.plot(ts,expanded)\n",
    "    plt.plot(ts,expanded,\".\")\n",
    "    ts_new, expanded_new = expand_new_pulse(t_start,t_width)\n",
    "    plt.plot(ts_new,expanded_new,\"-.\") \n",
    "    \n",
    "    #Analyze the partial sums to find where to insert the new pulse\n",
    "    cum_sum = partial_cum_sum(pulse_stream,t_start,t_width)\n",
    "    leading_edge_idx=np.argmax(np.where(cum_sum<t_start))\n",
    "    leading_delta = t_start - cum_sum[leading_edge_idx]\n",
    "    \n",
    "    # Add 1 if \n",
    "    leading_edge_idx += (leading_delta >= (1-leading_edge_idx%2))\n",
    "    \n",
    "    #falling_edge_idx=np.argmax(np.where(cum_sum<(t_start+t_width)))\n",
    "    \n",
    "    \n",
    "    print(f\"{pulse_stream=}\")\n",
    "    print(f\"{cum_sum=}\")\n",
    "    print(f\"{leading_edge_idx=}\")\n",
    "    print(f\"{leading_delta=}\")\n",
    "   \n",
    "    #Compute the edges relevant for classifying the new pulse\n",
    "    #leading_edge = j-1-j%2\n",
    "    #trailing_edge = falling_edge_idx\n",
    "    \n",
    "    #Plot the regions that the new pulse edges fall within\n",
    "    plt.hlines(leading_edge_idx%2,xmin=cum_sum[leading_edge_idx-1],xmax=cum_sum[leading_edge_idx],ls=\"--\",color=\"black\",alpha=0.5)\n",
    "    #plt.vlines(cum_sum[trailing_edge],ymax=1.1,ymin=-0.1,ls=\"--\",color=\"black\",alpha=0.5)\n",
    "    \n",
    "    plt.show()\n",
    "    \n",
    "    \n",
    "\n",
    "\n",
    "\n",
    "\n",
    "\n"
   ]
  },
  {
   "cell_type": "code",
   "execution_count": 51,
   "metadata": {},
   "outputs": [
    {
     "data": {
      "text/plain": [
       "3"
      ]
     },
     "execution_count": 51,
     "metadata": {},
     "output_type": "execute_result"
    }
   ],
   "source": [
    "np.argmax(np.where(cum_sum<t_start))"
   ]
  },
  {
   "cell_type": "code",
   "execution_count": null,
   "metadata": {},
   "outputs": [],
   "source": [
    "previous_pulse_end_idx = j-1-((j%2)-1)*start\n",
    "print(f\"{previous_pulse_end_idx=}\")\n",
    "preceeding_gap = t_start-cum_sum[previous_pulse_end_idx]\n",
    "if preceeding_gap > 0:\n",
    "    print(f\"new pulse begins at {t_start}, which is {preceeding_gap} after the end of the previous pulse ({cum_sum[previous_pulse_end_idx]})\")\n",
    "elif preceeding_gap < -t_width:\n",
    "    print(f\"CASE 5: new_pulse is entirely within existing pulse!\")\n",
    "else:\n",
    "    print(f\"new_pulse begins at {t_start}, which overlaps with previous pulse by {preceeding_gap}\")\n",
    "    \n",
    "next_pulse_begin_idx = j-(j%2+start)\n",
    "print(f\"{next_pulse_begin_idx=}\")\n",
    "following_gap = cum_sum[next_pulse_begin_idx]-(t_start+t_width)\n",
    "if following_gap > 0:\n",
    "    print(f\"New pulse ends at {t_start+t_width}, which is {following_gap} before the following pulse begins ({cum_sum[next_pulse_begin_idx]})\") \n",
    "else:\n",
    "    print(f\"New pulse ends at {t_start+t_width}, which overlaps with the following pulse by {following_gap}\")\n",
    "\n",
    "    \n",
    "if (preceeding_gap > 0) and (following_gap > 0):\n",
    "    print(\"CASE 1: No overlap between new pulse and existing pulses\")\n",
    "\n",
    "elif (preceeding_gap <=0) and (following_gap > 0):\n",
    "    print(\"CASE 2: new pulse overlaps previous pulse but not following pulse\")\n",
    "\n",
    "elif (preceeding_gap >0) and (following_gap <=0):\n",
    "    print(\"CASE 3: new pulse overlaps following pulse but not previous pulse\")\n",
    "\n",
    "elif (preceeding_gap <=0) and (following_gap<=0):\n",
    "    print(\"CASE 4: New pulse bridges two previous pulses\")"
   ]
  },
  {
   "cell_type": "code",
   "execution_count": 48,
   "metadata": {},
   "outputs": [
    {
     "data": {
      "text/plain": [
       "20"
      ]
     },
     "execution_count": 48,
     "metadata": {},
     "output_type": "execute_result"
    }
   ],
   "source": [
    "cum_sum[j]"
   ]
  },
  {
   "cell_type": "code",
   "execution_count": null,
   "metadata": {},
   "outputs": [],
   "source": []
  }
 ],
 "metadata": {
  "kernelspec": {
   "display_name": "Python 3",
   "language": "python",
   "name": "python3"
  },
  "language_info": {
   "codemirror_mode": {
    "name": "ipython",
    "version": 3
   },
   "file_extension": ".py",
   "mimetype": "text/x-python",
   "name": "python",
   "nbconvert_exporter": "python",
   "pygments_lexer": "ipython3",
   "version": "3.8.3"
  }
 },
 "nbformat": 4,
 "nbformat_minor": 4
}
